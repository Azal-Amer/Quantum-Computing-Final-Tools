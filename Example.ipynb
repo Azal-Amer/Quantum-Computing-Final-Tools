{
 "cells": [
  {
   "cell_type": "code",
   "execution_count": 1,
   "metadata": {},
   "outputs": [],
   "source": [
    "from quantumObjects import *\n",
    "import numpy as np\n",
    "import sympy as sp\n"
   ]
  },
  {
   "cell_type": "markdown",
   "metadata": {},
   "source": [
    "# Documentation\n",
    "- The photon class takes in order, the basis of the photon ('HV', 'DA', or 'RL'), the column vector representing amplitudes, and if specified, the travelling direction of the photon\n",
    "- The beamsplitter class takes the probability of A, probability of B, or r value. Then by using the apply method which takes a photon object, it will return two photon objects, one for each output port.\n",
    "- The halfwaveplate just changes the amplitude and returns a new photon "
   ]
  },
  {
   "cell_type": "markdown",
   "metadata": {},
   "source": [
    "# Example Problem"
   ]
  },
  {
   "cell_type": "markdown",
   "metadata": {},
   "source": [
    "![Alt Text](example.png)\n"
   ]
  },
  {
   "cell_type": "code",
   "execution_count": 2,
   "metadata": {},
   "outputs": [],
   "source": [
    "incomingPhoton = Photon(polarization='HV', amplitudes=sp.Matrix([1,0]), direction='-')\n",
    "newBeamSplitter = beamSplitter(A = sp.Rational(1,2),B = sp.Rational(1,2))\n",
    "newHalfWavePlate = halfWavePlate(sp.pi)\n",
    "# defining our objects for the above system"
   ]
  },
  {
   "cell_type": "code",
   "execution_count": 3,
   "metadata": {},
   "outputs": [
    {
     "data": {
      "text/latex": [
       "$\\displaystyle |\\downarrow , \\psi \\rangle = 0|0\\rangle + - \\frac{\\sqrt{2}}{2}|1\\rangle$"
      ],
      "text/plain": [
       "<IPython.core.display.Math object>"
      ]
     },
     "metadata": {},
     "output_type": "display_data"
    },
    {
     "data": {
      "text/latex": [
       "$\\displaystyle |\\rightarrow , \\psi \\rangle = \\frac{\\sqrt{2}}{2}|0\\rangle + 0|1\\rangle$"
      ],
      "text/plain": [
       "<IPython.core.display.Math object>"
      ]
     },
     "metadata": {},
     "output_type": "display_data"
    },
    {
     "data": {
      "text/plain": [
       "(None, None)"
      ]
     },
     "execution_count": 3,
     "metadata": {},
     "output_type": "execute_result"
    }
   ],
   "source": [
    "outputPhotons = newBeamSplitter.apply(incomingPhoton)\n",
    "# running the photon through a beamsplitter, the output is [horizontal, vertical]\n",
    "\n",
    "horizontalPhoton = outputPhotons[0]\n",
    "verticalPhoton = newHalfWavePlate.apply(outputPhotons[1])*X\n",
    "\n",
    "verticalPhoton.visualize(), horizontalPhoton.visualize()"
   ]
  }
 ],
 "metadata": {
  "kernelspec": {
   "display_name": "Python 3",
   "language": "python",
   "name": "python3"
  },
  "language_info": {
   "codemirror_mode": {
    "name": "ipython",
    "version": 3
   },
   "file_extension": ".py",
   "mimetype": "text/x-python",
   "name": "python",
   "nbconvert_exporter": "python",
   "pygments_lexer": "ipython3",
   "version": "3.10.0"
  }
 },
 "nbformat": 4,
 "nbformat_minor": 2
}
