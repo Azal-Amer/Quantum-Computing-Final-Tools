{
 "cells": [
  {
   "cell_type": "code",
   "execution_count": 5,
   "metadata": {},
   "outputs": [],
   "source": [
    "from quantumObjects import *\n",
    "import numpy as np\n",
    "import sympy as sp\n",
    "\n",
    "sp.init_printing()"
   ]
  },
  {
   "cell_type": "code",
   "execution_count": 6,
   "metadata": {},
   "outputs": [
    {
     "data": {
      "image/png": "[encoded data removed]",
      "text/latex": [
       "$\\displaystyle \\left[\\begin{matrix}0 & e^{\\frac{i \\pi}{4}}\\\\e^{- \\frac{i \\pi}{4}} & 0\\end{matrix}\\right]$"
      ],
      "text/plain": [
       "⎡         ⅈ⋅π⎤\n",
       "⎢         ───⎥\n",
       "⎢          4 ⎥\n",
       "⎢  0     ℯ   ⎥\n",
       "⎢            ⎥\n",
       "⎢ -ⅈ⋅π       ⎥\n",
       "⎢ ─────      ⎥\n",
       "⎢   4        ⎥\n",
       "⎣ℯ        0  ⎦"
      ]
     },
     "execution_count": 6,
     "metadata": {},
     "output_type": "execute_result"
    }
   ],
   "source": [
    "x = (T_dagger*X*T)\n",
    "x"
   ]
  },
  {
   "cell_type": "code",
   "execution_count": 7,
   "metadata": {},
   "outputs": [
    {
     "data": {
      "image/png": "[encoded data removed]",
      "text/latex": [
       "$\\displaystyle \\left[ \\left( - i, \\  1, \\  \\left[ \\left[\\begin{matrix}i e^{- \\frac{i \\pi}{4}}\\\\1\\end{matrix}\\right]\\right]\\right), \\  \\left( i, \\  1, \\  \\left[ \\left[\\begin{matrix}- i e^{- \\frac{i \\pi}{4}}\\\\1\\end{matrix}\\right]\\right]\\right)\\right]$"
      ],
      "text/plain": [
       "⎡⎛       ⎡⎡   -ⅈ⋅π ⎤⎤⎞  ⎛      ⎡⎡    -ⅈ⋅π ⎤⎤⎞⎤\n",
       "⎢⎜       ⎢⎢   ─────⎥⎥⎟  ⎜      ⎢⎢    ─────⎥⎥⎟⎥\n",
       "⎢⎜       ⎢⎢     4  ⎥⎥⎟  ⎜      ⎢⎢      4  ⎥⎥⎟⎥\n",
       "⎢⎜-ⅈ, 1, ⎢⎢ⅈ⋅ℯ     ⎥⎥⎟, ⎜ⅈ, 1, ⎢⎢-ⅈ⋅ℯ     ⎥⎥⎟⎥\n",
       "⎢⎜       ⎢⎢        ⎥⎥⎟  ⎜      ⎢⎢         ⎥⎥⎟⎥\n",
       "⎣⎝       ⎣⎣   1    ⎦⎦⎠  ⎝      ⎣⎣    1    ⎦⎦⎠⎦"
      ]
     },
     "execution_count": 7,
     "metadata": {},
     "output_type": "execute_result"
    }
   ],
   "source": [
    "(x/sp.I).eigenvects()"
   ]
  },
  {
   "cell_type": "code",
   "execution_count": 8,
   "metadata": {},
   "outputs": [
    {
     "data": {
      "text/latex": [
       "$\\displaystyle | \\psi \\rangle = \\left(\\frac{\\pi}{2}\\right)|D\\rangle + \\left(- \\frac{\\sqrt{2} i}{2}\\right)|A\\rangle$"
      ],
      "text/plain": [
       "<IPython.core.display.Math object>"
      ]
     },
     "metadata": {},
     "output_type": "display_data"
    },
    {
     "data": {
      "text/latex": [
       "$\\displaystyle | \\psi \\rangle = \\left(\\frac{\\sqrt{2} \\pi}{4} - \\frac{i}{2}\\right)|0\\rangle + \\left(\\frac{\\sqrt{2} \\pi}{4} + \\frac{i}{2}\\right)|1\\rangle$"
      ],
      "text/plain": [
       "<IPython.core.display.Math object>"
      ]
     },
     "metadata": {},
     "output_type": "display_data"
    },
    {
     "data": {
      "text/plain": [
       "<quantumObjects.Photon at 0x106325a80>"
      ]
     },
     "execution_count": 8,
     "metadata": {},
     "output_type": "execute_result"
    }
   ],
   "source": [
    "photon = Photon(polarization='RL',amplitudes=sp.Matrix([sp.pi/2,1/sp.sqrt(2)]))\n",
    "photon.convertDA()"
   ]
  },
  {
   "cell_type": "code",
   "execution_count": null,
   "metadata": {},
   "outputs": [],
   "source": []
  }
 ],
 "metadata": {
  "kernelspec": {
   "display_name": "Python 3",
   "language": "python",
   "name": "python3"
  },
  "language_info": {
   "codemirror_mode": {
    "name": "ipython",
    "version": 3
   },
   "file_extension": ".py",
   "mimetype": "text/x-python",
   "name": "python",
   "nbconvert_exporter": "python",
   "pygments_lexer": "ipython3",
   "version": "3.10.0"
  }
 },
 "nbformat": 4,
 "nbformat_minor": 2
}
